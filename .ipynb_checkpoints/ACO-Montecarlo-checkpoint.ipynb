{
 "cells": [
  {
   "cell_type": "markdown",
   "metadata": {},
   "source": [
    "## Ant Colony Optimization - Monte Carol Hybrid for the Set Covering Problem"
   ]
  },
  {
   "cell_type": "markdown",
   "metadata": {},
   "source": [
    "Set of files used for testing found in the resources folder of the project (./resources)"
   ]
  },
  {
   "cell_type": "code",
   "execution_count": 10,
   "metadata": {
    "collapsed": false
   },
   "outputs": [],
   "source": [
    "import numpy as np\n",
    "\n",
    "# Definition of global variables to be used in the solution\n",
    "num_elements = 0\n",
    "num_sets = 0\n",
    "sets_cost = []\n",
    "sets = []\n",
    "matrix = []"
   ]
  },
  {
   "cell_type": "markdown",
   "metadata": {},
   "source": [
    "Definition of the problem class which will contain the data and methods related to a problem. Each object will be an instance of a problem that will be used by each ant."
   ]
  },
  {
   "cell_type": "code",
   "execution_count": 11,
   "metadata": {
    "collapsed": false
   },
   "outputs": [],
   "source": [
    "#class Problem:\n",
    "\n",
    "def addElements(mat, idx, elems):\n",
    "    for e in elems:\n",
    "        mat[idx:(e-1)] = 1\n",
    "    return mat\n",
    "\n",
    "# Definition of the function in charge to read the instance file.\n",
    "def read_file(fname):\n",
    "    global num_elements, num_sets, sets_cost, matrix\n",
    "    with open(fname) as f:\n",
    "        content = f.readlines()\n",
    "    num_elements, num_sets = content[0].split()\n",
    "    num_elements = int(num_elements)\n",
    "    num_sets = int(num_sets)\n",
    "    \n",
    "    matrix = np.zeros((num_elements, num_sets))\n",
    "    \n",
    "    line_idx = 1\n",
    "    \n",
    "    while(len(sets_cost) < num_sets):\n",
    "        sets_cost.extend([int(x) for x in content[line_idx].split()])\n",
    "        line_idx += 1\n",
    "        \n",
    "    for r in range(0, num_elements):\n",
    "        tmp_list=[]\n",
    "        n_els = int(content[line_idx])\n",
    "        line_idx += 1\n",
    "        while(len(tmp_list) < n_els):\n",
    "            tmp_list.extend([int(x) for x in content[line_idx].split()])\n",
    "            line_idx += 1\n",
    "        matrix = addElements(matrix, r, tmp_list)\n",
    "    "
   ]
  },
  {
   "cell_type": "code",
   "execution_count": 12,
   "metadata": {
    "collapsed": false
   },
   "outputs": [
    {
     "ename": "TypeError",
     "evalue": "'tuple' object is not callable",
     "output_type": "error",
     "traceback": [
      "\u001b[1;31m---------------------------------------------------------------------------\u001b[0m",
      "\u001b[1;31mTypeError\u001b[0m                                 Traceback (most recent call last)",
      "\u001b[1;32m<ipython-input-12-5dc5c4ea8655>\u001b[0m in \u001b[0;36m<module>\u001b[1;34m()\u001b[0m\n\u001b[0;32m      1\u001b[0m \u001b[0mread_file\u001b[0m\u001b[1;33m(\u001b[0m\u001b[1;34m\"./resources/scp-instances/scp42.txt\"\u001b[0m\u001b[1;33m)\u001b[0m\u001b[1;33m\u001b[0m\u001b[0m\n\u001b[1;32m----> 2\u001b[1;33m \u001b[0mprint\u001b[0m\u001b[1;33m(\u001b[0m\u001b[0mmatrix\u001b[0m\u001b[1;33m.\u001b[0m\u001b[0mshape\u001b[0m\u001b[1;33m(\u001b[0m\u001b[1;33m)\u001b[0m\u001b[1;33m)\u001b[0m\u001b[1;33m\u001b[0m\u001b[0m\n\u001b[0m",
      "\u001b[1;31mTypeError\u001b[0m: 'tuple' object is not callable"
     ]
    }
   ],
   "source": [
    "read_file(\"./resources/scp-instances/scp42.txt\")\n",
    "print(matrix[0:])"
   ]
  }
 ],
 "metadata": {
  "kernelspec": {
   "display_name": "Python 3",
   "language": "python",
   "name": "python3"
  },
  "language_info": {
   "codemirror_mode": {
    "name": "ipython",
    "version": 3
   },
   "file_extension": ".py",
   "mimetype": "text/x-python",
   "name": "python",
   "nbconvert_exporter": "python",
   "pygments_lexer": "ipython3",
   "version": "3.5.1"
  }
 },
 "nbformat": 4,
 "nbformat_minor": 0
}
