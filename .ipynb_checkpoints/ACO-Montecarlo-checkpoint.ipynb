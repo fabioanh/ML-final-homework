{
 "cells": [
  {
   "cell_type": "markdown",
   "metadata": {},
   "source": [
    "## Ant Colony Optimization - Monte Carol Hybrid for the Set Covering Problem"
   ]
  },
  {
   "cell_type": "markdown",
   "metadata": {},
   "source": [
    "Set of files used for testing found in the resources folder of the project (./resources)"
   ]
  },
  {
   "cell_type": "code",
   "execution_count": 47,
   "metadata": {
    "collapsed": false
   },
   "outputs": [],
   "source": [
    "import numpy as np\n",
    "\n"
   ]
  },
  {
   "cell_type": "markdown",
   "metadata": {},
   "source": [
    "Definition of the problem class which will contain the data and methods related to a problem. Each object will be an instance of a problem that will be used by each ant."
   ]
  },
  {
   "cell_type": "code",
   "execution_count": 48,
   "metadata": {
    "collapsed": false
   },
   "outputs": [],
   "source": [
    "class Problem:\n",
    "    \n",
    "    # Definition of problem variables to be used in the solution\n",
    "    num_elements = 0\n",
    "    num_sets = 0\n",
    "    sets_cost = []\n",
    "    matrix = None\n",
    "    \n",
    "    covered_sets = []\n",
    "    uncovered_sets = []\n",
    "    \n",
    "    covered_elements = []\n",
    "    uncovered_elements = []\n",
    "    \n",
    "    \n",
    "    # Helper function to add flag elements to the reference matrix\n",
    "    def addElements(mat, idx, elems):\n",
    "        for e in elems:\n",
    "            mat[idx,(e-1)] = 1\n",
    "        return mat\n",
    "\n",
    "    # Definition of the function in charge to read the instance file.\n",
    "    def read_file(self, fname):\n",
    "        with open(fname) as f:\n",
    "            content = f.readlines()\n",
    "        self.num_elements, self.num_sets = content[0].split()\n",
    "        self.num_elements = int(self.num_elements)\n",
    "        self.num_sets = int(self.num_sets)\n",
    "\n",
    "        self.matrix = np.zeros((self.num_elements,self.num_sets), dtype=np.int)\n",
    "\n",
    "        line_idx = 1\n",
    "\n",
    "        while(len(self.sets_cost) < num_sets):\n",
    "            self.sets_cost.extend([int(x) for x in content[line_idx].split()])\n",
    "            line_idx += 1\n",
    "\n",
    "        for r in range(0, num_elements):\n",
    "            tmp_list=[]\n",
    "            n_els = int(content[line_idx])\n",
    "            line_idx += 1\n",
    "            while(len(tmp_list) < n_els):\n",
    "                tmp_list.extend([int(x) for x in content[line_idx].split()])\n",
    "                line_idx += 1\n",
    "            self.matrix = addElements(self.matrix, r, tmp_list)\n",
    "            \n",
    "        #Initialize required values after data load\n",
    "        self.init_covered_lists()\n",
    "    \n",
    "    def init_covered_elements(self):\n",
    "        self.covered_elements = []\n",
    "        self.uncovered_elements = list(range(0, self.num_elements))\n",
    "    \n",
    "    def init_covered_sets(self):\n",
    "        covered_sets = []\n",
    "        uncovered_sets = list(range(0, self.num_sets))\n",
    "    \n",
    "    def init_covered_lists(self):\n",
    "        self.init_covered_elements()\n",
    "        self.init_covered_sets()"
   ]
  },
  {
   "cell_type": "code",
   "execution_count": 49,
   "metadata": {
    "collapsed": true
   },
   "outputs": [],
   "source": [
    "class ProblemSolver:\n",
    "    # Properties used for the solution\n",
    "    problem = Problem()\n",
    "    ants = []\n",
    "    bestAnt = None\n",
    "    minPheromone = None\n",
    "    maxPheromone = None\n",
    "    numberOfAnts = 40\n",
    "    rho = 0.8\n",
    "    epsilon = 0.01\n",
    "    \n",
    "    def solve(self, instance_location):\n",
    "        self.problem.read_file(instance_location)"
   ]
  },
  {
   "cell_type": "markdown",
   "metadata": {},
   "source": [
    "Definition of the Ant class. Ant's are the basic unit of an Ant Colony Optimization algorithm. In this case the ants contain three main data objects. One to store an instance of the problem. Another one to store the pheromone information and a last one for the heuristic information. In this case a variation of **Max-Min Ant System** is used. There is an important concept for these kind of algorithms known as the pheromone. This idea gives the colony a global communication method, so that ants can share information about their independent process and make the others aware of their findings, contributing to the general global objective.\n",
    "\n",
    "In this solution the heurstic and pheromone information are defined around the sets, this is a key point that allows the use of an Ant Colony Optimization problem definition for the set covering problem, given that it is not very straightforward to find the conditions that allow using this algorithm for any kind of problem. Here each ant has to select of a set to cover in each step giving the idea of a path followed by the ant. The method introduces monte carlo perturbations to set the probability of each set after every iteration over the colony.\n",
    "\n",
    "**WHAT THE HELL IS A PERTURBATION IN A MARKOV CHAIN MONTE CARLO METHOD????**\n",
    "\n",
    "**ADD PHEROMONE CALCULATION FORMULA HERE** Try to find something implemented for MCMC in ipython and just modify the latex code for the Sum and division.\n",
    "\n",
    "The main idea behind the basic definition of Max-Min Ant System is to define an upper and lower limit for the pheromone values to give the algorithm a higher chance to escape from local minima."
   ]
  },
  {
   "cell_type": "code",
   "execution_count": 50,
   "metadata": {
    "collapsed": false
   },
   "outputs": [],
   "source": [
    "class Ant:\n",
    "    \n",
    "    # Main properties of the class\n",
    "    problem = Problem()\n",
    "    pheromone = []\n",
    "    heuristic_information = []\n",
    "    \n",
    "    # MAKE SURE THIS PARAMETER IS GOING TO BE USED. SUPOSEDLY USED IN THE PROBABILITY TO PICK A SET IN THE CONSTRUCTION\n",
    "    beta = 5.0\n",
    "    \n",
    "    "
   ]
  },
  {
   "cell_type": "code",
   "execution_count": 51,
   "metadata": {
    "collapsed": false
   },
   "outputs": [],
   "source": [
    "prob =  Problem()\n",
    "prob.read_file(\"./resources/scp-instances/scp42.txt\")\n"
   ]
  }
 ],
 "metadata": {
  "kernelspec": {
   "display_name": "Python 3",
   "language": "python",
   "name": "python3"
  },
  "language_info": {
   "codemirror_mode": {
    "name": "ipython",
    "version": 3
   },
   "file_extension": ".py",
   "mimetype": "text/x-python",
   "name": "python",
   "nbconvert_exporter": "python",
   "pygments_lexer": "ipython3",
   "version": "3.5.1"
  }
 },
 "nbformat": 4,
 "nbformat_minor": 0
}
