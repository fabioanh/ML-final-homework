{
 "cells": [
  {
   "cell_type": "markdown",
   "metadata": {},
   "source": [
    "## Ant Colony Optimization - Monte Carol Hybrid for the Set Covering Problem"
   ]
  },
  {
   "cell_type": "markdown",
   "metadata": {},
   "source": [
    "Set of files used for testing found in the resources folder of the project (./resources)"
   ]
  },
  {
   "cell_type": "code",
   "execution_count": 16,
   "metadata": {
    "collapsed": false
   },
   "outputs": [],
   "source": [
    "import numpy as np\n",
    "\n",
    "# Definition of global variables to be used in the solution\n",
    "num_elements = 0\n",
    "num_sets = 0\n",
    "sets_cost = []\n",
    "sets = []\n",
    "matrix = []"
   ]
  },
  {
   "cell_type": "markdown",
   "metadata": {},
   "source": [
    "Definition of the problem class which will contain the data and methods related to a problem. Each object will be an instance of a problem that will be used by each ant."
   ]
  },
  {
   "cell_type": "code",
   "execution_count": 17,
   "metadata": {
    "collapsed": false
   },
   "outputs": [],
   "source": [
    "#class Problem:\n",
    "\n",
    "def addElements(mat, idx, elems):\n",
    "    for e in elems:\n",
    "        mat[idx:(e-1)] = 1\n",
    "    return mat\n",
    "\n",
    "# Definition of the function in charge to read the instance file.\n",
    "def read_file(fname):\n",
    "    global num_elements, num_sets, sets_cost, matrix\n",
    "    with open(fname) as f:\n",
    "        content = f.readlines()\n",
    "    num_elements, num_sets = content[0].split()\n",
    "    num_elements = int(num_elements)\n",
    "    num_sets = int(num_sets)\n",
    "    \n",
    "    matrix = np.zeros((num_elements, num_sets))\n",
    "    \n",
    "    line_idx = 1\n",
    "    \n",
    "    while(len(sets_cost) < num_sets):\n",
    "        sets_cost.extend([int(x) for x in content[line_idx].split()])\n",
    "        line_idx += 1\n",
    "        \n",
    "    for r in range(0, num_elements):\n",
    "        tmp_list=[]\n",
    "        n_els = int(content[line_idx])\n",
    "        line_idx += 1\n",
    "        while(len(tmp_list) < n_els):\n",
    "            tmp_list.extend([int(x) for x in content[line_idx].split()])\n",
    "            line_idx += 1\n",
    "        matrix = addElements(matrix, r, tmp_list)\n",
    "    "
   ]
  },
  {
   "cell_type": "code",
   "execution_count": 18,
   "metadata": {
    "collapsed": false
   },
   "outputs": [
    {
     "name": "stdout",
     "output_type": "stream",
     "text": [
      "[[ 1.  1.  1. ...,  1.  1.  1.]\n",
      " [ 1.  1.  1. ...,  1.  1.  1.]\n",
      " [ 1.  1.  1. ...,  1.  1.  1.]\n",
      " ..., \n",
      " [ 1.  1.  1. ...,  1.  1.  1.]\n",
      " [ 1.  1.  1. ...,  1.  1.  1.]\n",
      " [ 1.  1.  1. ...,  1.  1.  1.]]\n"
     ]
    }
   ],
   "source": [
    "read_file(\"./resources/scp-instances/scp42.txt\")\n",
    "print(matrix[1:])"
   ]
  }
 ],
 "metadata": {
  "kernelspec": {
   "display_name": "Python 3",
   "language": "python",
   "name": "python3"
  },
  "language_info": {
   "codemirror_mode": {
    "name": "ipython",
    "version": 3
   },
   "file_extension": ".py",
   "mimetype": "text/x-python",
   "name": "python",
   "nbconvert_exporter": "python",
   "pygments_lexer": "ipython3",
   "version": "3.5.1"
  }
 },
 "nbformat": 4,
 "nbformat_minor": 0
}
