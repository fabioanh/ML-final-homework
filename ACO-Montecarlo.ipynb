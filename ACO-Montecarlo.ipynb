{
 "cells": [
  {
   "cell_type": "markdown",
   "metadata": {},
   "source": [
    "## Ant Colony Optimization - Monte Carol Hybrid for the Set Covering Problem"
   ]
  },
  {
   "cell_type": "markdown",
   "metadata": {},
   "source": [
    "Set of files used for testing found in the resources folder of the project (./resources)"
   ]
  },
  {
   "cell_type": "code",
   "execution_count": 123,
   "metadata": {
    "collapsed": false
   },
   "outputs": [],
   "source": [
    "import numpy as np\n",
    "\n"
   ]
  },
  {
   "cell_type": "markdown",
   "metadata": {},
   "source": [
    "Definition of the problem class which will contain the data and methods related to a problem. Each object will be an instance of a problem that will be used by each ant."
   ]
  },
  {
   "cell_type": "code",
   "execution_count": 124,
   "metadata": {
    "collapsed": false
   },
   "outputs": [],
   "source": [
    "class Problem:\n",
    "    \n",
    "    # Definition of problem variables to be used in the solution\n",
    "    num_elements = 0\n",
    "    num_sets = 0\n",
    "    sets_cost = []\n",
    "    matrix = None\n",
    "    \n",
    "    covered_sets = []\n",
    "    uncovered_sets = []\n",
    "    \n",
    "    covered_elements = []\n",
    "    uncovered_elements = []\n",
    "    \n",
    "    \n",
    "    # Helper function to add flag elements to the reference matrix\n",
    "    def addElements(self, mat, idx, elems):\n",
    "        for e in elems:\n",
    "            mat[idx,(e-1)] = 1\n",
    "        return mat\n",
    "\n",
    "    # Definition of the function in charge to read the instance file.\n",
    "    def read_file(self, fname):\n",
    "        with open(fname) as f:\n",
    "            content = f.readlines()\n",
    "        self.num_elements, self.num_sets = content[0].split()\n",
    "        self.num_elements = int(self.num_elements)\n",
    "        self.num_sets = int(self.num_sets)\n",
    "\n",
    "        self.matrix = np.zeros((self.num_elements,self.num_sets), dtype=np.int)\n",
    "\n",
    "        line_idx = 1\n",
    "\n",
    "        while(len(self.sets_cost) < num_sets):\n",
    "            self.sets_cost.extend([int(x) for x in content[line_idx].split()])\n",
    "            line_idx += 1\n",
    "\n",
    "        for r in range(0, num_elements):\n",
    "            tmp_list=[]\n",
    "            n_els = int(content[line_idx])\n",
    "            line_idx += 1\n",
    "            while(len(tmp_list) < n_els):\n",
    "                tmp_list.extend([int(x) for x in content[line_idx].split()])\n",
    "                line_idx += 1\n",
    "            self.matrix = self.addElements(self.matrix, r, tmp_list)\n",
    "            \n",
    "        #Initialize required values after data load\n",
    "        self.init_covered_lists()\n",
    "    \n",
    "    def init_covered_elements(self):\n",
    "        self.covered_elements = []\n",
    "        self.uncovered_elements = list(range(0, self.num_elements))\n",
    "    \n",
    "    def init_covered_sets(self):\n",
    "        covered_sets = []\n",
    "        uncovered_sets = list(range(0, self.num_sets))\n",
    "    \n",
    "    def init_covered_lists(self):\n",
    "        self.init_covered_elements()\n",
    "        self.init_covered_sets()\n",
    "        \n",
    "    \n",
    "    def covered_sets_cost(self):\n",
    "        cov_cost = 0\n",
    "        for cs in self.covered_sets:\n",
    "            cov_cost += sets_cost[cs]\n",
    "        return cov_cost"
   ]
  },
  {
   "cell_type": "code",
   "execution_count": 125,
   "metadata": {
    "collapsed": false
   },
   "outputs": [],
   "source": [
    "class ProblemSolver:\n",
    "    # Properties used for the solution\n",
    "    problem = None\n",
    "    ants = None\n",
    "    pheromone = None\n",
    "    best_ant = None\n",
    "    min_pheromone = None\n",
    "    max_pheromone = None\n",
    "    number_of_ants = 40\n",
    "    rho = 0.8\n",
    "    epsilon = 0.01\n",
    "    beta = 5.0\n",
    "    \n",
    "    def __init__(self, instance_file):\n",
    "        self.problem = Problem()\n",
    "        self.problem.read_file(instance_file)\n",
    "        self.init_pheromone()\n",
    "        self.init_ants(self.init_heuristic_information(), self.beta)\n",
    "    \n",
    "    # Method to initialize the pheromone values\n",
    "    def init_pheromone(self):\n",
    "        self.pheromone = np.empty(self.problem.num_sets)\n",
    "        self.pheromone.fill(9999999)\n",
    "        self.max_pheromone = 9999999\n",
    "    \n",
    "    # Initialize the array of ants with the values for the \n",
    "    # problem instance, pheromone, heuristic information and beta\n",
    "    def init_ants(self,heuristic_info, b):\n",
    "        self.ants = []\n",
    "        for i in range(0,self.number_of_ants):\n",
    "            self.ants.append(Ant(self.problem,self.pheromone, heuristic_info, b))\n",
    "    \n",
    "    # Initially the heuristic information for each set has the value of the \n",
    "    # number of elements divided by the cost of the set\n",
    "    def init_heuristic_information(self):\n",
    "        heuristic_info = []\n",
    "        for i in range(0, self.problem.num_sets):\n",
    "            heuristic_info.append(np.sum(self.problem.matrix[:,i])/self.problem.sets_cost[i])\n",
    "        return heuristic_info\n",
    "    \n",
    "    def solve(self, instance_location):\n",
    "        first_loop = True\n",
    "        loop_counter = 0\n",
    "        while not self.terminate(loop_counter):\n",
    "            current_best_ant = self.best_ant\n",
    "            for ant in self.ants:\n",
    "                ant.solve()\n",
    "                # Apply redundancy elimination here\n",
    "                if current_best_ant is None:\n",
    "                    current_best_ant = ant\n",
    "                if best_ant is None or (best_ant is not None and best_ant.problem.covered_sets_cost()):\n",
    "                    best_ant = Ant(ant.problem, ant.pheromone, ant.heuristic_information, ant.beta)\n",
    "        \n",
    "    def terminate(self, loop_count):\n",
    "        return loop_count >= max_loops\n",
    "    "
   ]
  },
  {
   "cell_type": "markdown",
   "metadata": {},
   "source": [
    "Definition of the Ant class. Ant's are the basic unit of an Ant Colony Optimization algorithm. In this case the ants contain three main data objects. One to store an instance of the problem. Another one to store the pheromone information and a last one for the heuristic information. In this case a variation of **Max-Min Ant System** is used. There is an important concept for these kind of algorithms known as the pheromone. This idea gives the colony a global communication method, so that ants can share information about their independent process and make the others aware of their findings, contributing to the general global objective.\n",
    "\n",
    "In this solution the heurstic and pheromone information are defined around the sets, this is a key point that allows the use of an Ant Colony Optimization problem definition for the set covering problem, given that it is not very straightforward to find the conditions that allow using this algorithm for any kind of problem. Here each ant has to select of a set to cover in each step giving the idea of a path followed by the ant. The method introduces monte carlo perturbations to set the probability of each set after every iteration over the colony.\n",
    "\n",
    "**WHAT IS A PERTURBATION IN A MARKOV CHAIN MONTE CARLO METHOD????**\n",
    "\n",
    "**ADD PHEROMONE CALCULATION FORMULA HERE** Try to find something implemented for MCMC in ipython and just modify the latex code for the Sum and division.\n",
    "\n",
    "The main idea behind the basic definition of Max-Min Ant System is to define an upper and lower limit for the pheromone values to give the algorithm a higher chance to escape from local minima."
   ]
  },
  {
   "cell_type": "code",
   "execution_count": 126,
   "metadata": {
    "collapsed": false
   },
   "outputs": [],
   "source": [
    "class Ant:\n",
    "    \n",
    "    # Main properties of the class\n",
    "    problem = Problem()\n",
    "    pheromone = None\n",
    "    heuristic_information = None\n",
    "    \n",
    "    # MAKE SURE THIS PARAMETER IS GOING TO BE USED. SUPOSEDLY USED IN THE PROBABILITY TO PICK A SET IN THE CONSTRUCTION\n",
    "    beta = None\n",
    "    \n",
    "    def __init__(self, prob, pher, heur_inf, b):\n",
    "        self.problem = prob\n",
    "        self.pheromone = pher\n",
    "        self.heuristic_information = heur_inf\n",
    "        self.beta = b"
   ]
  },
  {
   "cell_type": "code",
   "execution_count": 127,
   "metadata": {
    "collapsed": false
   },
   "outputs": [],
   "source": [
    "prob =  Problem()\n",
    "\n",
    "solver =  ProblemSolver(\"./resources/scp-instances/scp42.txt\")"
   ]
  }
 ],
 "metadata": {
  "kernelspec": {
   "display_name": "Python 3",
   "language": "python",
   "name": "python3"
  },
  "language_info": {
   "codemirror_mode": {
    "name": "ipython",
    "version": 3
   },
   "file_extension": ".py",
   "mimetype": "text/x-python",
   "name": "python",
   "nbconvert_exporter": "python",
   "pygments_lexer": "ipython3",
   "version": "3.5.1"
  }
 },
 "nbformat": 4,
 "nbformat_minor": 0
}
